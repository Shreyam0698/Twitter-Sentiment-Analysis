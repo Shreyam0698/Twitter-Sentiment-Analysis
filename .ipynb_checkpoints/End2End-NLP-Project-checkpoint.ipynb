{
 "cells": [
  {
   "cell_type": "markdown",
   "id": "90f1efad-ed29-4e12-9dee-d1b67b4f3917",
   "metadata": {},
   "source": [
    "### End 2 End NLP Project"
   ]
  },
  {
   "cell_type": "markdown",
   "id": "e0362a2a-c0c4-4df9-84c1-690cc3260424",
   "metadata": {},
   "source": [
    "+ Emotion Detection in Text\n",
    "+ Text Classifier"
   ]
  },
  {
   "cell_type": "code",
   "execution_count": 1,
   "id": "5c2042ea-b1f9-427f-b937-bd39af93c294",
   "metadata": {},
   "outputs": [],
   "source": [
    "# load EDA pkgs\n",
    "import numpy as np\n",
    "import pandas as pd"
   ]
  },
  {
   "cell_type": "code",
   "execution_count": 2,
   "id": "52610cbd-96b7-4b89-90e5-0e7e55cc7288",
   "metadata": {},
   "outputs": [],
   "source": [
    "# Load Data viz Pkgs\n",
    "import seaborn as sns"
   ]
  },
  {
   "cell_type": "code",
   "execution_count": 3,
   "id": "a88598e6-2123-44db-93fc-bb90f430c0e0",
   "metadata": {},
   "outputs": [],
   "source": [
    "# load text cleaning pkgs\n",
    "import neattext.functions as nfx"
   ]
  },
  {
   "cell_type": "code",
   "execution_count": 4,
   "id": "30291b72-0e16-4f6f-9dd3-33c66a113615",
   "metadata": {},
   "outputs": [],
   "source": [
    "# Load ML Pkgs\n",
    "from sklearn.linear_model import LogisticRegression\n",
    "from sklearn.naive_bayes import MultinomialNB\n",
    "\n",
    "# Transformers\n",
    "from sklearn.feature_extraction.text import CountVectorizer\n",
    "from sklearn.model_selection import train_test_split\n",
    "from sklearn.metrics import accuracy_score, classification_report, confusion_matrix"
   ]
  },
  {
   "cell_type": "code",
   "execution_count": null,
   "id": "533d7423-31a9-408f-af59-a8dcc7da30ab",
   "metadata": {},
   "outputs": [],
   "source": [
    "# Load Dataset\n",
    "df = pd. "
   ]
  }
 ],
 "metadata": {
  "kernelspec": {
   "display_name": "Python 3 (ipykernel)",
   "language": "python",
   "name": "python3"
  },
  "language_info": {
   "codemirror_mode": {
    "name": "ipython",
    "version": 3
   },
   "file_extension": ".py",
   "mimetype": "text/x-python",
   "name": "python",
   "nbconvert_exporter": "python",
   "pygments_lexer": "ipython3",
   "version": "3.11.7"
  }
 },
 "nbformat": 4,
 "nbformat_minor": 5
}
